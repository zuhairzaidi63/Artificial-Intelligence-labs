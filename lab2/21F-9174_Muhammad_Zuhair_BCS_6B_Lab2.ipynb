{
 "cells": [
  {
   "cell_type": "markdown",
   "id": "067b6f41",
   "metadata": {},
   "source": [
    "# Task1:"
   ]
  },
  {
   "cell_type": "code",
   "execution_count": 13,
   "id": "24e7d412",
   "metadata": {},
   "outputs": [],
   "source": [
    "class AutoCleaner:\n",
    "    length = 0.0\n",
    "    width = 0.0\n",
    "    height = 0.0\n",
    "    area = 0.0\n",
    "    Volume = 0.0\n",
    "    def Calculate_area(self,length,width):    # for area and save in area variable\n",
    "        self.length = length\n",
    "        self.width = width\n",
    "        self.area = self.length * self.width\n",
    "       \n",
    "    def Calculate_volume(self,length,width,height):   # for volume  and save in volume\n",
    "        self.length = length\n",
    "        self.width = width\n",
    "        self.height = height\n",
    "        self.Volume = self.length * self.width * self.height\n",
    "        \n",
    "    def display(self):                                        # display area and volume of room\n",
    "        print(\"Area of the room is :\", self.area)\n",
    "        print(\"Volume of the room is \", self.Volume)\n"
   ]
  },
  {
   "cell_type": "code",
   "execution_count": 14,
   "id": "3e0ab75a",
   "metadata": {},
   "outputs": [
    {
     "name": "stdout",
     "output_type": "stream",
     "text": [
      "Enter Length:12\n",
      "Enter Width:12\n",
      "Enter Height:13\n",
      "(12.0, 12.0, 13.0)\n",
      "Area of the room is : 144.0\n",
      "Volume of the room is  1872.0\n"
     ]
    }
   ],
   "source": [
    "#Main\n",
    "length = float(input(\"Enter Length:\"))\n",
    "width = float(input(\"Enter Width:\"))\n",
    "height = float(input(\"Enter Height:\"))\n",
    "tuple_for_calculation = (length,width,height) # tuple for room\n",
    "print(tuple_for_calculation) \n",
    "room_cleaner = AutoCleaner()                       # use default constructor\n",
    "room_cleaner.Calculate_area(tuple_for_calculation[0],tuple_for_calculation[1])\n",
    "room_cleaner.Calculate_volume(tuple_for_calculation[0],tuple_for_calculation[1],tuple_for_calculation[2])\n",
    "room_cleaner.display()"
   ]
  },
  {
   "cell_type": "markdown",
   "id": "e4a475e3",
   "metadata": {},
   "source": [
    "# Task 2:"
   ]
  },
  {
   "cell_type": "code",
   "execution_count": 32,
   "id": "a01a1d3b",
   "metadata": {},
   "outputs": [],
   "source": [
    "class fruits:\n",
    "    winter_set = None \n",
    "    summer_set = None\n",
    "    def __init__(self):             #default constructor\n",
    "        self.winter_set = set()            # default values\n",
    "        self.summer_set = set()                   \n",
    "    def add_in_summer(self,fruit):         # add function for summer fruit\n",
    "        self.summer_set.add(fruit)\n",
    "    def add_in_winter(self,fruit):       # add function for winter fruit\n",
    "        self.winter_set.add(fruit)\n",
    "    def check_for_summer(self,fruit):       \n",
    "        if fruit in self.summer_set:\n",
    "            print(\"Yes \",fruit,\" is present in summer set\")\n",
    "        else:\n",
    "            print(\"Not present\")\n",
    "    def check_for_winter(self,fruit):       \n",
    "        if fruit in self.winter_set:\n",
    "            print(\"Yes \",fruit,\" is present in summer set\")\n",
    "        else:\n",
    "            print(\"Not present\")\n",
    "    def summer_winter_intersection(self):\n",
    "        print(self.summer_set.intersection(self.winter_set))\n",
    "    def summer_winter_union(self):\n",
    "        print(self.summer_set.union(self.winter_set))\n",
    "    def summer_winter_difference(self):\n",
    "        print(self.summer_set.difference(self.winter_set))\n",
    "    def display_summer(self):\n",
    "        print(self.summer_set)\n",
    "    def display_winter(self):\n",
    "        print(self.winter_set)\n",
    "\n",
    "        \n",
    "        "
   ]
  },
  {
   "cell_type": "code",
   "execution_count": 31,
   "id": "14bde4da",
   "metadata": {},
   "outputs": [
    {
     "name": "stdout",
     "output_type": "stream",
     "text": [
      "Enter summer fruit mango\n",
      "Enter winter fruit gava\n",
      "press -1 to end inserting fruits or else press any integer0\n",
      "Enter summer fruit grapes\n",
      "Enter winter fruit oranges\n",
      "press -1 to end inserting fruits or else press any integer0\n",
      "Enter summer fruit apple\n",
      "Enter winter fruit pinapple\n",
      "press -1 to end inserting fruits or else press any integer-1\n",
      "enter which fruit you want to check present in summer one mango\n",
      "Yes  mango  is present in summer set\n",
      "enter which fruit you want to check present in winter one gava\n",
      "Yes  gava  is present in summer set\n",
      "intersection is :\n",
      "set()\n",
      "union is :\n",
      "{'mango', 'oranges', 'apple', 'grapes', 'pinapple', 'gava'}\n",
      "difference is :\n",
      "{'mango', 'grapes', 'apple'}\n"
     ]
    }
   ],
   "source": [
    "#main for task 2\n",
    "i = 0\n",
    "fruit_obj = fruits()\n",
    "while (i!=-1):\n",
    "    summer_fruit = input(\"Enter summer fruit \")\n",
    "    fruit_obj.add_in_summer(summer_fruit)\n",
    "    winter_fruit = input(\"Enter winter fruit \")\n",
    "    fruit_obj.add_in_winter(winter_fruit)\n",
    "    i = int(input(\"press -1 to end inserting fruits or else press any integer\"))\n",
    "x=input(\"enter which fruit you want to check present in summer one \")\n",
    "fruit_obj.check_for_summer(x)\n",
    "y=input(\"enter which fruit you want to check present in winter one \")\n",
    "fruit_obj.check_for_winter(y)\n",
    "print(\"intersection is :\")\n",
    "fruit_obj.summer_winter_intersection()\n",
    "print(\"union is :\")\n",
    "fruit_obj.summer_winter_union()\n",
    "print(\"difference is :\")\n",
    "fruit_obj.summer_winter_difference()\n"
   ]
  },
  {
   "cell_type": "markdown",
   "id": "bd2a24ca",
   "metadata": {},
   "source": [
    "# Task 3:"
   ]
  },
  {
   "cell_type": "code",
   "execution_count": 38,
   "id": "1f4cf6c2",
   "metadata": {},
   "outputs": [],
   "source": [
    "class Malaria_Detection_System:\n",
    "    symptoms = None\n",
    "    sums = None\n",
    "    def __init__(self):\n",
    "        self.sums = 0\n",
    "        self.symptoms = {\"fever\": 4,\n",
    "                    \"chills\": 3,\n",
    "                    \"sweating\": 2,\n",
    "                    \"headache\": 4,\n",
    "                    \"nausea\": 3,\n",
    "                    \"muscle aches\": 5,\n",
    "                    \"fatigue\": 3,\n",
    "                    \"joint pain\": 2}      \n",
    "    def check_malaria(self):\n",
    "        for keys in self.symptoms.keys():\n",
    "            print(\"Do you have \" , keys,\" if yes press 1 if no press 0 : \")\n",
    "            x=int(input())     # threshhold 15\n",
    "            self.sums = x*self.symptoms[keys]\n",
    "    def result(self):\n",
    "        if self.sums >=15:\n",
    "            print(\"Based on your symptoms, there is a possibility that you may have Malaria.\",\n",
    "                 \" It is important to consult with a healthcare professional for further guidance.\")\n",
    "        else:\n",
    "            print(\"Based on your symptoms, it is less likely that you have Malaria.\",\n",
    "                   \"However, if you have concerns, it is always a good idea to consult with a healthcare professional.\")\n",
    "        \n",
    "    \n",
    "        "
   ]
  },
  {
   "cell_type": "code",
   "execution_count": 39,
   "id": "60a293f9",
   "metadata": {},
   "outputs": [
    {
     "name": "stdout",
     "output_type": "stream",
     "text": [
      "Do you have  fever  if yes press 1 if no press 0 : \n",
      "1\n",
      "Do you have  chills  if yes press 1 if no press 0 : \n",
      "0\n",
      "Do you have  sweating  if yes press 1 if no press 0 : \n",
      "1\n",
      "Do you have  headache  if yes press 1 if no press 0 : \n",
      "0\n",
      "Do you have  nausea  if yes press 1 if no press 0 : \n",
      "1\n",
      "Do you have  muscle aches  if yes press 1 if no press 0 : \n",
      "1\n",
      "Do you have  fatigue  if yes press 1 if no press 0 : \n",
      "0\n",
      "Do you have  joint pain  if yes press 1 if no press 0 : \n",
      "0\n",
      "Based on your symptoms, it is less likely that you have Malaria. However, if you have concerns, it is always a good idea to consult with a healthcare professional.\n"
     ]
    }
   ],
   "source": [
    "#task 3 main\n",
    "system = Malaria_Detection_System()\n",
    "system.check_malaria()\n",
    "system.result()"
   ]
  },
  {
   "cell_type": "code",
   "execution_count": 1,
   "id": "ca051838-3aa7-4b21-bc36-2b3dc24d6da3",
   "metadata": {},
   "outputs": [],
   "source": [
    "#Task 4:"
   ]
  },
  {
   "cell_type": "code",
   "execution_count": 2,
   "id": "da03f063-ca8e-4010-8cd6-bc93408b6109",
   "metadata": {},
   "outputs": [],
   "source": [
    "import random\n",
    "from datetime import datetime, timedelta\n",
    "class Car_Rental_Reservation_System:\n",
    "    person_info = None\n",
    "    cars_info = None\n",
    "    def __init__(self):\n",
    "        self.person_info = {1:{\"name\":\"Zuhair\", \"CNIC\":\"33401-04999285\", \"phone\":\"03334565566\"},\n",
    "                       2:{\"name\":\"Ahmed\", \"CNIC\":\"33401-04976285\", \"phone\":\"03337895566\"}\n",
    "                      }\n",
    "        self.cars_info = {\"sports\":[{\"name\":\"Porsche 911.\",\"time\":datetime.now()+timedelta(random.randint(1, 48))},{\"name\":\"BMW M3/M4.\",\"time\":datetime.now()+timedelta(random.randint(1, 48))}], \n",
    "                     \"luxury\":[{\"name\":\"Bentley Continental GT.\",\"time\":datetime.now()+timedelta(random.randint(1, 48))},{\"name\":\"Rolls-Royce Phantom.\",\"time\":datetime.now()+timedelta(random.randint(1, 48))}],\n",
    "                     \"electric\":[{\"name\":\"Tesla Model 3.\",\"time\":datetime.now()+timedelta(random.randint(1, 48))},{\"name\":\"Kia EV6.\",\"time\":datetime.now()+timedelta(random.randint(1, 48))}],\n",
    "                     \"micro\":[{\"name\":\"Peel P50.\",\"time\":datetime.now()+timedelta(random.randint(1, 48))},{\"name\":\"voiturettes.\",\"time\":datetime.now()+timedelta(random.randint(1, 48))}]\n",
    "                    }\n",
    "    def person_add(self,CNIC,name,phone_no):\n",
    "        flag = True\n",
    "        i = 1;\n",
    "        for x in self.person_info.values():\n",
    "            if x[\"CNIC\"] == CNIC:\n",
    "                print(\"Hello \", x[\"name\"])\n",
    "                flag = False\n",
    "                i=i+1\n",
    "        if flag == False:\n",
    "            self.person_info[i]={\"name\":name, \"CNIC\":CNIC, \"phone\":phone_no}\n",
    "    def display_car(self,type):\n",
    "         print(self.cars_info[type])\n",
    "            \n",
    "                \n",
    "        "
   ]
  },
  {
   "cell_type": "code",
   "execution_count": 3,
   "id": "513a0bb7-c0b8-40f9-b5d7-89f3b4b9c883",
   "metadata": {},
   "outputs": [
    {
     "name": "stdout",
     "output_type": "stream",
     "text": [
      "Hello  Zuhair\n",
      "[{'name': 'Bentley Continental GT.', 'time': datetime.datetime(2024, 3, 5, 21, 35, 5, 363851)}, {'name': 'Rolls-Royce Phantom.', 'time': datetime.datetime(2024, 2, 21, 21, 35, 5, 363851)}]\n"
     ]
    }
   ],
   "source": [
    "system=Car_Rental_Reservation_System()\n",
    "system.person_add(\"33401-04999285\",\"Zuhair\",\"03334565566\")\n",
    "system.display_car(\"luxury\")"
   ]
  },
  {
   "cell_type": "code",
   "execution_count": null,
   "id": "5cc399a8-abbb-4a71-89f8-7b16ff12dcda",
   "metadata": {},
   "outputs": [],
   "source": []
  }
 ],
 "metadata": {
  "kernelspec": {
   "display_name": "Python 3 (ipykernel)",
   "language": "python",
   "name": "python3"
  },
  "language_info": {
   "codemirror_mode": {
    "name": "ipython",
    "version": 3
   },
   "file_extension": ".py",
   "mimetype": "text/x-python",
   "name": "python",
   "nbconvert_exporter": "python",
   "pygments_lexer": "ipython3",
   "version": "3.12.0"
  }
 },
 "nbformat": 4,
 "nbformat_minor": 5
}
